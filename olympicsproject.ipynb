{
 "cells": [
  {
   "cell_type": "markdown",
   "id": "c45aa294-e0a5-4451-94c9-fe67db1191b2",
   "metadata": {},
   "source": [
    "I obtained a dataset from Kaggle containing historical data on the Olympics from 1896 to 2014. The dataset was provided in the form of three CSV files: dictionary.csv, summer.csv, and winter.csv. Upon initial analysis of the Olympics data, it became apparent that the formatting differed slightly from official records. Notably, in team sports such as football where say 11 players constitute a team, the dataset counted each player's medal individually, resulting in 11 gold medals attributed to both the players and the country. This contrasts with official records, which typically count team medals as singular achievements for the team and the country. Therefore medal count for the data is higher than official records but still factually accurate. \n",
    "\n",
    "Upon downloading the files, I observed that they were automatically converted into Excel files for easier access and manipulation.\n",
    "\n",
    "**Cleaning Process**\n",
    "\n",
    "**Reformatting Athlete Names**\n",
    "\n",
    "I loaded the summer.csv and winter.csv files into their own python script in VS Code using pandas.\n",
    "\n",
    "I imported unidecode to create clear and consistent formatting and applied this to all columns. \n",
    "\n",
    "I reformatted Athlete names by putting the first and last name in the correct order. I removed non-letter characters from the last name as well as block capitalizing the last name. \n",
    "\n",
    "By standardizing the format of the athlete names, the dataset became more readable and conducive to further analysis and visualization. You can see the code for the summer.py, the exact same process was applied to winter.py."
   ]
  },
  {
   "cell_type": "code",
   "execution_count": 7,
   "id": "f8f755be-42e6-4503-8b1f-bb9c48de59d9",
   "metadata": {},
   "outputs": [],
   "source": [
    "import pandas as pd\n",
    "from unidecode import unidecode\n",
    "\n",
    "# Load the summer.csv file into a pandas DataFrame\n",
    "summer_df = pd.read_csv('/Users/taylorturton/Desktop/olympics/summer.csv')\n",
    "\n",
    "# Define a function to normalize string values\n",
    "def normalize_string(value):\n",
    "    if isinstance(value, str):  # Check if the value is a string\n",
    "        return unidecode(value)  # Normalize the string using unidecode\n",
    "    else:\n",
    "        return value\n",
    "\n",
    "# Apply the normalization function to all string columns\n",
    "summer_df = summer_df.apply(lambda x: x.map(normalize_string) if x.dtype == 'object' else x)\n",
    "\n",
    "# Define a function to reformat athlete names\n",
    "def reformat_name(name):\n",
    "    parts = name.split(', ')\n",
    "    if len(parts) >= 2:\n",
    "        # Remove non-letter characters from last name\n",
    "        cleaned_last_name = ''.join(filter(str.isalpha, parts[0]))\n",
    "        # Capitalize last name\n",
    "        last_name = parts[1].capitalize()\n",
    "        return f\"{last_name} {cleaned_last_name}\"\n",
    "    else:\n",
    "        return name\n",
    "\n",
    "# Apply the reformatting function to the 'Athlete' column\n",
    "summer_df['Athlete'] = summer_df['Athlete'].apply(reformat_name)\n",
    "\n",
    "# Save the modified DataFrame back to the CSV file\n",
    "summer_df.to_csv('/Users/taylorturton/Desktop/olympics/summer_cleaned.csv', index=False)\n"
   ]
  },
  {
   "cell_type": "markdown",
   "id": "7e7925fd-f057-4266-9f7f-e8ddc35439f2",
   "metadata": {},
   "source": [
    "**Cleaning \"GDP per Capita\" Column**\n",
    "\n",
    "Next, I cleaned the dictionary.csv file. \n",
    "\n",
    "- Converted Column to Numeric Type:\n",
    "\n",
    "I converted the \"GDP per Capita\" column to numeric type, ensuring that all values are treated as numbers.\n",
    "\n",
    "- Removed Rows with Invalid Values:\n",
    "\n",
    "Rows containing invalid or non-numeric values in the \"GDP per Capita\" column were removed.\n",
    "\n",
    "- Converted to Integers:\n",
    "\n",
    "After cleaning, the \"GDP per Capita\" values were converted to integers, removing any decimal points and making the data more readable.\n",
    "\n",
    "- Saved Cleaned Data:\n",
    "\n",
    "The cleaned dataset, containing only valid and formatted \"GDP per Capita\" values, was saved for further analysis and visualization.\n",
    "\n",
    "This process ensures that the \"GDP per Capita\" column is consistent and ready for analysis in subsequent stages of the project."
   ]
  },
  {
   "cell_type": "code",
   "execution_count": 8,
   "id": "c9301646-365e-48c0-bb87-9b8a8f93221a",
   "metadata": {},
   "outputs": [],
   "source": [
    "import pandas as pd\n",
    "\n",
    "# Read the dictionary.csv file into a pandas DataFrame\n",
    "dictionary_df = pd.read_csv('/Users/taylorturton/Desktop/olympics/dictionary.csv')\n",
    "\n",
    "# Convert the 'GDP per Capita' column to numeric type\n",
    "dictionary_df['GDP per Capita'] = pd.to_numeric(dictionary_df['GDP per Capita'], errors='coerce')\n",
    "\n",
    "# Drop rows with NaN values in the 'GDP per Capita' column\n",
    "dictionary_df = dictionary_df.dropna(subset=['GDP per Capita'])\n",
    "\n",
    "# Convert the 'GDP per Capita' column to integers \n",
    "dictionary_df['GDP per Capita'] = dictionary_df['GDP per Capita'].astype(int)\n",
    "\n",
    "# Save the modified DataFrame back to the CSV file\n",
    "dictionary_df.to_csv('/Users/taylorturton/Desktop/olympics/dictionary_cleaned.csv', index=False)\n"
   ]
  },
  {
   "cell_type": "markdown",
   "id": "e0c7864d-7ea4-4dcd-852a-f0cd039352f6",
   "metadata": {},
   "source": [
    "Next, I imported the cleaned datasets into a new Tableau Public project.\n",
    "\n",
    "I created relationships to link the datasets and their related fields. \n",
    "\n",
    "I then created a first worksheet and named it 'Olympic Medals by Country 1896-2014'. \n",
    "\n",
    "In the first worksheet, I first created calcualted fields writing in Tableau syntax and named them 'Bronze Medals', 'Silver Medals', 'Gold Medals', and 'Total Medals'. I did this to count the number of each medal. \n",
    "\n",
    "\n",
    "```\n",
    "IFNULL(SUM(IIF([Medal] = 'Bronze', 1, 0)), 0)\n",
    "```\n",
    "\n",
    "```\n",
    "IFNULL(SUM(IIF([Medal] = 'Silver', 1, 0)), 0)\n",
    "```\n",
    "\n",
    "```\n",
    "IFNULL(SUM(IIF([Medal] = 'Gold', 1, 0)), 0)\n",
    "```\n",
    "\n",
    "```\n",
    "[Gold Medals] + [Silver Medals] + [Bronze Medals]\n",
    "```\n",
    "\n",
    "I dragged the 'Bronze Medals', 'Silver Medals' and 'Gold Medals' calculated fields to the Marks Card. I then dragged the 'Total Medals' calculated field to the Marks Card and specified the colour attribute to it, as well as dragging it to the Filters Shelf. \n",
    "\n",
    "I dragged the 'Country' field to the Marks Card and selected the World Map option from the 'Show Me' visualisations. I did this to help make the data interactive, visual and easy to understand. \n",
    "\n",
    "I adjusted the colour to a green-gold palette, the greener the country meaning the more medals they have won. "
   ]
  },
  {
   "cell_type": "markdown",
   "id": "dd826854-69cb-4e6d-90a9-62fd556cc269",
   "metadata": {},
   "source": [
    "Then I created a second worksheet, titled 'Olympic Medals by Athlete 1896-2014'. \n",
    "\n",
    "Once again, I dragged the 'Bronze Medals', 'Silver Medals' and 'Gold Medals' calculated fields to the Marks Card. I then dragged the 'Total Medals' calculated field to the Marks Card and specified the colour attribute to it, as well as dragging it to the Filters Shelf and the Columns Shelf. \n",
    "\n",
    "Finally, I dragged the 'Discipline' field to the Marks Card and the 'Athlete' field to the Rows Shelf. \n",
    "\n",
    "I then selected the Horizontal Bars option from the 'Show Me' visualisations. I felt this option was a clear way to view the data, giving a very different view to the world map while still looking at Olympic Medals. \n",
    "\n",
    "I retained the green-gold colour palette for visual continuity. \n",
    "\n",
    "I then showed the 'Total Medals' filter, giving the opportunity to use a slider. Some of the athlete's bars are divided in colour - this is because they accrued medals in more than 1 discipline. We can view the particular discipline as well as type of medal by hovering over the athlete's bar. "
   ]
  },
  {
   "cell_type": "markdown",
   "id": "b14ff27a-ebf7-4b61-afac-84d061e4a47a",
   "metadata": {},
   "source": [
    "I then dragged the 2 worksheets I created onto a newly created dashboard. I stacked the World Map above the Horizontal Bars as a landscape way of visualising the data worked better. \n",
    "\n",
    "I resized the dashboard to 'Automatic' so it will fit any screen that it is displayed on. \n",
    "\n",
    "I then published this project, which you can view and interact with below. "
   ]
  },
  {
   "cell_type": "code",
   "execution_count": 9,
   "id": "80a9602e-cbfa-46db-b75d-51fa509a3fc7",
   "metadata": {},
   "outputs": [
    {
     "data": {
      "text/html": [
       "<div class='tableauPlaceholder' id='viz1707224246918' style='position: relative'><noscript><a href='#'><img alt='Olympic Medals Dashboard ' src='https:&#47;&#47;public.tableau.com&#47;static&#47;images&#47;Ol&#47;OlympicsProject_17066263498450&#47;OlympicMedalsDashboard&#47;1_rss.png' style='border: none' /></a></noscript><object class='tableauViz'  style='display:none;'><param name='host_url' value='https%3A%2F%2Fpublic.tableau.com%2F' /> <param name='embed_code_version' value='3' /> <param name='site_root' value='' /><param name='name' value='OlympicsProject_17066263498450&#47;OlympicMedalsDashboard' /><param name='tabs' value='no' /><param name='toolbar' value='yes' /><param name='static_image' value='https:&#47;&#47;public.tableau.com&#47;static&#47;images&#47;Ol&#47;OlympicsProject_17066263498450&#47;OlympicMedalsDashboard&#47;1.png' /> <param name='animate_transition' value='yes' /><param name='display_static_image' value='yes' /><param name='display_spinner' value='yes' /><param name='display_overlay' value='yes' /><param name='display_count' value='yes' /><param name='language' value='en-GB' /></object></div>                <script type='text/javascript'>                    var divElement = document.getElementById('viz1707224246918');                    var vizElement = divElement.getElementsByTagName('object')[0];                    if ( divElement.offsetWidth > 800 ) { vizElement.style.width='100%';vizElement.style.height=(divElement.offsetWidth*0.75)+'px';} else if ( divElement.offsetWidth > 500 ) { vizElement.style.width='100%';vizElement.style.height=(divElement.offsetWidth*0.75)+'px';} else { vizElement.style.width='100%';vizElement.style.height='727px';}                     var scriptElement = document.createElement('script');                    scriptElement.src = 'https://public.tableau.com/javascripts/api/viz_v1.js';                    vizElement.parentNode.insertBefore(scriptElement, vizElement);                </script>\n"
      ],
      "text/plain": [
       "<IPython.core.display.HTML object>"
      ]
     },
     "metadata": {},
     "output_type": "display_data"
    }
   ],
   "source": [
    "%%html\n",
    "<div class='tableauPlaceholder' id='viz1707224246918' style='position: relative'><noscript><a href='#'><img alt='Olympic Medals Dashboard ' src='https:&#47;&#47;public.tableau.com&#47;static&#47;images&#47;Ol&#47;OlympicsProject_17066263498450&#47;OlympicMedalsDashboard&#47;1_rss.png' style='border: none' /></a></noscript><object class='tableauViz'  style='display:none;'><param name='host_url' value='https%3A%2F%2Fpublic.tableau.com%2F' /> <param name='embed_code_version' value='3' /> <param name='site_root' value='' /><param name='name' value='OlympicsProject_17066263498450&#47;OlympicMedalsDashboard' /><param name='tabs' value='no' /><param name='toolbar' value='yes' /><param name='static_image' value='https:&#47;&#47;public.tableau.com&#47;static&#47;images&#47;Ol&#47;OlympicsProject_17066263498450&#47;OlympicMedalsDashboard&#47;1.png' /> <param name='animate_transition' value='yes' /><param name='display_static_image' value='yes' /><param name='display_spinner' value='yes' /><param name='display_overlay' value='yes' /><param name='display_count' value='yes' /><param name='language' value='en-GB' /></object></div>                <script type='text/javascript'>                    var divElement = document.getElementById('viz1707224246918');                    var vizElement = divElement.getElementsByTagName('object')[0];                    if ( divElement.offsetWidth > 800 ) { vizElement.style.width='100%';vizElement.style.height=(divElement.offsetWidth*0.75)+'px';} else if ( divElement.offsetWidth > 500 ) { vizElement.style.width='100%';vizElement.style.height=(divElement.offsetWidth*0.75)+'px';} else { vizElement.style.width='100%';vizElement.style.height='727px';}                     var scriptElement = document.createElement('script');                    scriptElement.src = 'https://public.tableau.com/javascripts/api/viz_v1.js';                    vizElement.parentNode.insertBefore(scriptElement, vizElement);                </script>"
   ]
  }
 ],
 "metadata": {
  "kernelspec": {
   "display_name": "Python 3 (ipykernel)",
   "language": "python",
   "name": "python3"
  },
  "language_info": {
   "codemirror_mode": {
    "name": "ipython",
    "version": 3
   },
   "file_extension": ".py",
   "mimetype": "text/x-python",
   "name": "python",
   "nbconvert_exporter": "python",
   "pygments_lexer": "ipython3",
   "version": "3.11.4"
  }
 },
 "nbformat": 4,
 "nbformat_minor": 5
}
